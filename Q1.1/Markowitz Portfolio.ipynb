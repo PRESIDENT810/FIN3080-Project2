{
 "cells": [
  {
   "cell_type": "code",
   "execution_count": 1,
   "metadata": {},
   "outputs": [],
   "source": [
    "import numpy as np\n",
    "import pandas as pd\n",
    "import matplotlib.pyplot as plt\n",
    "import seaborn as sns"
   ]
  },
  {
   "cell_type": "markdown",
   "metadata": {},
   "source": [
    "### Read the csv files"
   ]
  },
  {
   "cell_type": "code",
   "execution_count": 2,
   "metadata": {},
   "outputs": [],
   "source": [
    "df_DZ = pd.read_csv('./Data/联创电子.csv')\n",
    "df_MT = pd.read_csv('./Data/贵州茅台.csv')\n",
    "df_ZC = pd.read_csv('./Data/涪陵榨菜.csv')"
   ]
  },
  {
   "cell_type": "code",
   "execution_count": 8,
   "metadata": {},
   "outputs": [],
   "source": [
    "import qgrid\n",
    "qgrid_wid = qgrid.show_grid(df_DZ)"
   ]
  },
  {
   "cell_type": "code",
   "execution_count": 9,
   "metadata": {},
   "outputs": [
    {
     "data": {
      "application/vnd.jupyter.widget-view+json": {
       "model_id": "9b9f4d747d054ce3b90bf59c725483d1",
       "version_major": 2,
       "version_minor": 0
      },
      "text/plain": [
       "QgridWidget(grid_options={'fullWidthRows': True, 'syncColumnCellResize': True, 'forceFitColumns': True, 'defau…"
      ]
     },
     "metadata": {},
     "output_type": "display_data"
    }
   ],
   "source": [
    "qgrid_wid"
   ]
  },
  {
   "cell_type": "code",
   "execution_count": 6,
   "metadata": {
    "scrolled": true
   },
   "outputs": [
    {
     "data": {
      "text/html": [
       "<div>\n",
       "<style scoped>\n",
       "    .dataframe tbody tr th:only-of-type {\n",
       "        vertical-align: middle;\n",
       "    }\n",
       "\n",
       "    .dataframe tbody tr th {\n",
       "        vertical-align: top;\n",
       "    }\n",
       "\n",
       "    .dataframe thead th {\n",
       "        text-align: right;\n",
       "    }\n",
       "</style>\n",
       "<table border=\"1\" class=\"dataframe\">\n",
       "  <thead>\n",
       "    <tr style=\"text-align: right;\">\n",
       "      <th></th>\n",
       "      <th>交易日期</th>\n",
       "      <th>股票代码</th>\n",
       "      <th>月收盘价</th>\n",
       "      <th>DZ_return</th>\n",
       "      <th>收益率（无红利）</th>\n",
       "      <th>Unnamed: 5</th>\n",
       "      <th>Unnamed: 6</th>\n",
       "    </tr>\n",
       "  </thead>\n",
       "  <tbody>\n",
       "    <tr>\n",
       "      <th>0</th>\n",
       "      <td>2013-01</td>\n",
       "      <td>2036.0</td>\n",
       "      <td>8.96</td>\n",
       "      <td>-0.002227</td>\n",
       "      <td>-0.002227</td>\n",
       "      <td>NaN</td>\n",
       "      <td>NaN</td>\n",
       "    </tr>\n",
       "    <tr>\n",
       "      <th>1</th>\n",
       "      <td>2013-02</td>\n",
       "      <td>2036.0</td>\n",
       "      <td>10.17</td>\n",
       "      <td>0.135045</td>\n",
       "      <td>0.135045</td>\n",
       "      <td>NaN</td>\n",
       "      <td>NaN</td>\n",
       "    </tr>\n",
       "    <tr>\n",
       "      <th>2</th>\n",
       "      <td>2013-03</td>\n",
       "      <td>2036.0</td>\n",
       "      <td>8.51</td>\n",
       "      <td>-0.163225</td>\n",
       "      <td>-0.163225</td>\n",
       "      <td>NaN</td>\n",
       "      <td>NaN</td>\n",
       "    </tr>\n",
       "    <tr>\n",
       "      <th>3</th>\n",
       "      <td>2013-04</td>\n",
       "      <td>2036.0</td>\n",
       "      <td>7.77</td>\n",
       "      <td>-0.086957</td>\n",
       "      <td>-0.086957</td>\n",
       "      <td>NaN</td>\n",
       "      <td>NaN</td>\n",
       "    </tr>\n",
       "    <tr>\n",
       "      <th>4</th>\n",
       "      <td>2013-05</td>\n",
       "      <td>2036.0</td>\n",
       "      <td>9.20</td>\n",
       "      <td>0.184041</td>\n",
       "      <td>0.184041</td>\n",
       "      <td>NaN</td>\n",
       "      <td>NaN</td>\n",
       "    </tr>\n",
       "  </tbody>\n",
       "</table>\n",
       "</div>"
      ],
      "text/plain": [
       "      交易日期    股票代码   月收盘价  DZ_return  收益率（无红利）  Unnamed: 5  Unnamed: 6\n",
       "0  2013-01  2036.0   8.96  -0.002227 -0.002227         NaN         NaN\n",
       "1  2013-02  2036.0  10.17   0.135045  0.135045         NaN         NaN\n",
       "2  2013-03  2036.0   8.51  -0.163225 -0.163225         NaN         NaN\n",
       "3  2013-04  2036.0   7.77  -0.086957 -0.086957         NaN         NaN\n",
       "4  2013-05  2036.0   9.20   0.184041  0.184041         NaN         NaN"
      ]
     },
     "execution_count": 6,
     "metadata": {},
     "output_type": "execute_result"
    }
   ],
   "source": [
    "df_DZ.rename(columns={\"收益率（红利）\": \"DZ_return\"}, inplace=True)\n",
    "df_DZ.head()"
   ]
  },
  {
   "cell_type": "code",
   "execution_count": 4,
   "metadata": {},
   "outputs": [
    {
     "data": {
      "text/html": [
       "<div>\n",
       "<style scoped>\n",
       "    .dataframe tbody tr th:only-of-type {\n",
       "        vertical-align: middle;\n",
       "    }\n",
       "\n",
       "    .dataframe tbody tr th {\n",
       "        vertical-align: top;\n",
       "    }\n",
       "\n",
       "    .dataframe thead th {\n",
       "        text-align: right;\n",
       "    }\n",
       "</style>\n",
       "<table border=\"1\" class=\"dataframe\">\n",
       "  <thead>\n",
       "    <tr style=\"text-align: right;\">\n",
       "      <th></th>\n",
       "      <th>交易日期</th>\n",
       "      <th>股票代码</th>\n",
       "      <th>月收盘价</th>\n",
       "      <th>MT_return</th>\n",
       "      <th>收益率（无红利）</th>\n",
       "      <th>Unnamed: 5</th>\n",
       "      <th>Unnamed: 6</th>\n",
       "    </tr>\n",
       "  </thead>\n",
       "  <tbody>\n",
       "    <tr>\n",
       "      <th>0</th>\n",
       "      <td>2013-01</td>\n",
       "      <td>600519</td>\n",
       "      <td>178.90</td>\n",
       "      <td>-0.144101</td>\n",
       "      <td>-0.144101</td>\n",
       "      <td>NaN</td>\n",
       "      <td>NaN</td>\n",
       "    </tr>\n",
       "    <tr>\n",
       "      <th>1</th>\n",
       "      <td>2013-02</td>\n",
       "      <td>600519</td>\n",
       "      <td>175.00</td>\n",
       "      <td>-0.021800</td>\n",
       "      <td>-0.021800</td>\n",
       "      <td>NaN</td>\n",
       "      <td>NaN</td>\n",
       "    </tr>\n",
       "    <tr>\n",
       "      <th>2</th>\n",
       "      <td>2013-03</td>\n",
       "      <td>600519</td>\n",
       "      <td>168.86</td>\n",
       "      <td>-0.035086</td>\n",
       "      <td>-0.035086</td>\n",
       "      <td>NaN</td>\n",
       "      <td>NaN</td>\n",
       "    </tr>\n",
       "    <tr>\n",
       "      <th>3</th>\n",
       "      <td>2013-04</td>\n",
       "      <td>600519</td>\n",
       "      <td>173.99</td>\n",
       "      <td>0.030380</td>\n",
       "      <td>0.030380</td>\n",
       "      <td>NaN</td>\n",
       "      <td>NaN</td>\n",
       "    </tr>\n",
       "    <tr>\n",
       "      <th>4</th>\n",
       "      <td>2013-05</td>\n",
       "      <td>600519</td>\n",
       "      <td>197.10</td>\n",
       "      <td>0.132824</td>\n",
       "      <td>0.132824</td>\n",
       "      <td>NaN</td>\n",
       "      <td>NaN</td>\n",
       "    </tr>\n",
       "  </tbody>\n",
       "</table>\n",
       "</div>"
      ],
      "text/plain": [
       "      交易日期    股票代码    月收盘价  MT_return  收益率（无红利）  Unnamed: 5  Unnamed: 6\n",
       "0  2013-01  600519  178.90  -0.144101 -0.144101         NaN         NaN\n",
       "1  2013-02  600519  175.00  -0.021800 -0.021800         NaN         NaN\n",
       "2  2013-03  600519  168.86  -0.035086 -0.035086         NaN         NaN\n",
       "3  2013-04  600519  173.99   0.030380  0.030380         NaN         NaN\n",
       "4  2013-05  600519  197.10   0.132824  0.132824         NaN         NaN"
      ]
     },
     "execution_count": 4,
     "metadata": {},
     "output_type": "execute_result"
    }
   ],
   "source": [
    "df_MT.rename(columns={\"收益率（红利）\": \"MT_return\"}, inplace=True)\n",
    "df_MT.head()"
   ]
  },
  {
   "cell_type": "code",
   "execution_count": 5,
   "metadata": {},
   "outputs": [
    {
     "data": {
      "text/html": [
       "<div>\n",
       "<style scoped>\n",
       "    .dataframe tbody tr th:only-of-type {\n",
       "        vertical-align: middle;\n",
       "    }\n",
       "\n",
       "    .dataframe tbody tr th {\n",
       "        vertical-align: top;\n",
       "    }\n",
       "\n",
       "    .dataframe thead th {\n",
       "        text-align: right;\n",
       "    }\n",
       "</style>\n",
       "<table border=\"1\" class=\"dataframe\">\n",
       "  <thead>\n",
       "    <tr style=\"text-align: right;\">\n",
       "      <th></th>\n",
       "      <th>交易日期</th>\n",
       "      <th>股票代码</th>\n",
       "      <th>月收盘价</th>\n",
       "      <th>ZC_return</th>\n",
       "      <th>收益率（无红利）</th>\n",
       "      <th>Unnamed: 5</th>\n",
       "      <th>Unnamed: 6</th>\n",
       "    </tr>\n",
       "  </thead>\n",
       "  <tbody>\n",
       "    <tr>\n",
       "      <th>0</th>\n",
       "      <td>2013-01</td>\n",
       "      <td>2507.0</td>\n",
       "      <td>25.51</td>\n",
       "      <td>0.080017</td>\n",
       "      <td>0.080017</td>\n",
       "      <td>NaN</td>\n",
       "      <td>NaN</td>\n",
       "    </tr>\n",
       "    <tr>\n",
       "      <th>1</th>\n",
       "      <td>2013-02</td>\n",
       "      <td>2507.0</td>\n",
       "      <td>25.70</td>\n",
       "      <td>0.007448</td>\n",
       "      <td>0.007448</td>\n",
       "      <td>NaN</td>\n",
       "      <td>NaN</td>\n",
       "    </tr>\n",
       "    <tr>\n",
       "      <th>2</th>\n",
       "      <td>2013-03</td>\n",
       "      <td>2507.0</td>\n",
       "      <td>25.56</td>\n",
       "      <td>-0.005447</td>\n",
       "      <td>-0.005447</td>\n",
       "      <td>NaN</td>\n",
       "      <td>NaN</td>\n",
       "    </tr>\n",
       "    <tr>\n",
       "      <th>3</th>\n",
       "      <td>2013-04</td>\n",
       "      <td>2507.0</td>\n",
       "      <td>22.49</td>\n",
       "      <td>-0.120110</td>\n",
       "      <td>-0.120110</td>\n",
       "      <td>NaN</td>\n",
       "      <td>NaN</td>\n",
       "    </tr>\n",
       "    <tr>\n",
       "      <th>4</th>\n",
       "      <td>2013-05</td>\n",
       "      <td>2507.0</td>\n",
       "      <td>25.54</td>\n",
       "      <td>0.135616</td>\n",
       "      <td>0.135616</td>\n",
       "      <td>NaN</td>\n",
       "      <td>NaN</td>\n",
       "    </tr>\n",
       "  </tbody>\n",
       "</table>\n",
       "</div>"
      ],
      "text/plain": [
       "      交易日期    股票代码   月收盘价  ZC_return  收益率（无红利）  Unnamed: 5  Unnamed: 6\n",
       "0  2013-01  2507.0  25.51   0.080017  0.080017         NaN         NaN\n",
       "1  2013-02  2507.0  25.70   0.007448  0.007448         NaN         NaN\n",
       "2  2013-03  2507.0  25.56  -0.005447 -0.005447         NaN         NaN\n",
       "3  2013-04  2507.0  22.49  -0.120110 -0.120110         NaN         NaN\n",
       "4  2013-05  2507.0  25.54   0.135616  0.135616         NaN         NaN"
      ]
     },
     "execution_count": 5,
     "metadata": {},
     "output_type": "execute_result"
    }
   ],
   "source": [
    "df_ZC.rename(columns={\"收益率（红利）\": \"ZC_return\"}, inplace=True)\n",
    "df_ZC.head()"
   ]
  },
  {
   "cell_type": "markdown",
   "metadata": {},
   "source": [
    "## Q(a): Calculate mean and variance-covariance matrix.\n",
    "\n",
    "Mean:\n",
    "\n",
    "\n",
    "Stock Name|Mean Return\n",
    "---|---\n",
    "FLZC|0.033364\n",
    "LCDZ|0.020808\n",
    "GZMT|0.028398\n",
    "\n",
    "\n",
    "Covariance Matrix:\n",
    "\n",
    "\n",
    "Stock Name|LCDZ|GZMT|FLZC|\n",
    "---|---|---|---\n",
    "LCDZ|0.03751847|  \n",
    "GZMT|0.00182164|0.0077167|\n",
    "FLZC|0.00754047|0.0023015|0.01302531"
   ]
  },
  {
   "cell_type": "code",
   "execution_count": 6,
   "metadata": {},
   "outputs": [],
   "source": [
    "return_df = pd.concat([df_DZ[\"DZ_return\"], df_MT[\"MT_return\"], df_ZC[\"ZC_return\"]], axis=1)"
   ]
  },
  {
   "cell_type": "code",
   "execution_count": 7,
   "metadata": {},
   "outputs": [],
   "source": [
    "for column in list(return_df.columns[return_df.isnull().sum() > 0]):\n",
    "    mean_val = return_df[column].mean()"
   ]
  },
  {
   "cell_type": "code",
   "execution_count": 8,
   "metadata": {
    "scrolled": true
   },
   "outputs": [
    {
     "data": {
      "text/html": [
       "<div>\n",
       "<style scoped>\n",
       "    .dataframe tbody tr th:only-of-type {\n",
       "        vertical-align: middle;\n",
       "    }\n",
       "\n",
       "    .dataframe tbody tr th {\n",
       "        vertical-align: top;\n",
       "    }\n",
       "\n",
       "    .dataframe thead th {\n",
       "        text-align: right;\n",
       "    }\n",
       "</style>\n",
       "<table border=\"1\" class=\"dataframe\">\n",
       "  <thead>\n",
       "    <tr style=\"text-align: right;\">\n",
       "      <th></th>\n",
       "      <th>DZ_return</th>\n",
       "      <th>MT_return</th>\n",
       "      <th>ZC_return</th>\n",
       "    </tr>\n",
       "  </thead>\n",
       "  <tbody>\n",
       "    <tr>\n",
       "      <th>0</th>\n",
       "      <td>-0.002227</td>\n",
       "      <td>-0.144101</td>\n",
       "      <td>0.080017</td>\n",
       "    </tr>\n",
       "    <tr>\n",
       "      <th>1</th>\n",
       "      <td>0.135045</td>\n",
       "      <td>-0.021800</td>\n",
       "      <td>0.007448</td>\n",
       "    </tr>\n",
       "    <tr>\n",
       "      <th>2</th>\n",
       "      <td>-0.163225</td>\n",
       "      <td>-0.035086</td>\n",
       "      <td>-0.005447</td>\n",
       "    </tr>\n",
       "    <tr>\n",
       "      <th>3</th>\n",
       "      <td>-0.086957</td>\n",
       "      <td>0.030380</td>\n",
       "      <td>-0.120110</td>\n",
       "    </tr>\n",
       "    <tr>\n",
       "      <th>4</th>\n",
       "      <td>0.184041</td>\n",
       "      <td>0.132824</td>\n",
       "      <td>0.135616</td>\n",
       "    </tr>\n",
       "  </tbody>\n",
       "</table>\n",
       "</div>"
      ],
      "text/plain": [
       "   DZ_return  MT_return  ZC_return\n",
       "0  -0.002227  -0.144101   0.080017\n",
       "1   0.135045  -0.021800   0.007448\n",
       "2  -0.163225  -0.035086  -0.005447\n",
       "3  -0.086957   0.030380  -0.120110\n",
       "4   0.184041   0.132824   0.135616"
      ]
     },
     "execution_count": 8,
     "metadata": {},
     "output_type": "execute_result"
    }
   ],
   "source": [
    "return_df.head()"
   ]
  },
  {
   "cell_type": "code",
   "execution_count": 9,
   "metadata": {},
   "outputs": [
    {
     "data": {
      "text/plain": [
       "DZ_return    0.020808\n",
       "MT_return    0.028398\n",
       "ZC_return    0.033364\n",
       "Name: mean, dtype: float64"
      ]
     },
     "execution_count": 9,
     "metadata": {},
     "output_type": "execute_result"
    }
   ],
   "source": [
    "return_df.describe().loc['mean']"
   ]
  },
  {
   "cell_type": "code",
   "execution_count": 11,
   "metadata": {
    "scrolled": true
   },
   "outputs": [
    {
     "data": {
      "text/plain": [
       "array([[0.03751847, 0.00182164, 0.00754047],\n",
       "       [0.00182164, 0.0077167 , 0.0023015 ],\n",
       "       [0.00754047, 0.0023015 , 0.01302531]])"
      ]
     },
     "execution_count": 11,
     "metadata": {},
     "output_type": "execute_result"
    }
   ],
   "source": [
    "return_df = return_df.dropna()\n",
    "np.cov(np.array(return_df).T)"
   ]
  },
  {
   "cell_type": "markdown",
   "metadata": {},
   "source": [
    "## Q(b): Effective frontier"
   ]
  },
  {
   "cell_type": "markdown",
   "metadata": {},
   "source": [
    "Randomly generate different portfolios, and compute portfolios' mean and standard deviation:\n",
    "$$ mean:\\ (w_1 w_2 w_3)^T\\cdot(\\mu_1 \\mu_2 \\mu_3 ) $$\n",
    "\n",
    "\n",
    "$$ standard\\ deviation:\\ (w_1 w_2 w_3)^T\\cdot\\Sigma\\cdot(w_1 w_2 w_3)$$\n",
    "\n",
    "\n",
    "$$ s.t.\\ ||(w_1 w_2 w_3)||_1=1 $$"
   ]
  },
  {
   "cell_type": "code",
   "execution_count": 12,
   "metadata": {},
   "outputs": [],
   "source": [
    "mean = return_df.describe().loc['mean'].values\n",
    "std = np.array(np.cov(np.array(return_df).T))\n",
    "portfolios = []\n",
    "weights = []\n",
    "\n",
    "density = 100000\n",
    "\n",
    "for i in range(density):\n",
    "    w1 = np.random.uniform(low=0,high=1)\n",
    "    w2 = np.random.uniform(low=0,high=1-w1)\n",
    "    w3 = 1-w1-w2\n",
    "    weight = np.array([w1,w2,w3])\n",
    "    p_mean = np.dot(weight, mean)\n",
    "    p_std = np.dot(np.dot(weight, std), weight)\n",
    "    p_std = p_std**0.5\n",
    "    portfolios.append([p_mean, p_std])\n",
    "portfolios = np.array(portfolios)"
   ]
  },
  {
   "cell_type": "code",
   "execution_count": 13,
   "metadata": {},
   "outputs": [],
   "source": [
    "portfolio_df = pd.DataFrame(portfolios)\n",
    "portfolio_df.columns=[\"mean\", \"std\"]"
   ]
  },
  {
   "cell_type": "code",
   "execution_count": 14,
   "metadata": {},
   "outputs": [
    {
     "data": {
      "text/html": [
       "<div>\n",
       "<style scoped>\n",
       "    .dataframe tbody tr th:only-of-type {\n",
       "        vertical-align: middle;\n",
       "    }\n",
       "\n",
       "    .dataframe tbody tr th {\n",
       "        vertical-align: top;\n",
       "    }\n",
       "\n",
       "    .dataframe thead th {\n",
       "        text-align: right;\n",
       "    }\n",
       "</style>\n",
       "<table border=\"1\" class=\"dataframe\">\n",
       "  <thead>\n",
       "    <tr style=\"text-align: right;\">\n",
       "      <th></th>\n",
       "      <th>mean</th>\n",
       "      <th>std</th>\n",
       "    </tr>\n",
       "  </thead>\n",
       "  <tbody>\n",
       "    <tr>\n",
       "      <th>0</th>\n",
       "      <td>0.026508</td>\n",
       "      <td>0.079557</td>\n",
       "    </tr>\n",
       "    <tr>\n",
       "      <th>1</th>\n",
       "      <td>0.026162</td>\n",
       "      <td>0.078459</td>\n",
       "    </tr>\n",
       "    <tr>\n",
       "      <th>2</th>\n",
       "      <td>0.027760</td>\n",
       "      <td>0.080776</td>\n",
       "    </tr>\n",
       "    <tr>\n",
       "      <th>3</th>\n",
       "      <td>0.024891</td>\n",
       "      <td>0.181582</td>\n",
       "    </tr>\n",
       "    <tr>\n",
       "      <th>4</th>\n",
       "      <td>0.025216</td>\n",
       "      <td>0.135857</td>\n",
       "    </tr>\n",
       "  </tbody>\n",
       "</table>\n",
       "</div>"
      ],
      "text/plain": [
       "       mean       std\n",
       "0  0.026508  0.079557\n",
       "1  0.026162  0.078459\n",
       "2  0.027760  0.080776\n",
       "3  0.024891  0.181582\n",
       "4  0.025216  0.135857"
      ]
     },
     "execution_count": 14,
     "metadata": {},
     "output_type": "execute_result"
    }
   ],
   "source": [
    "portfolio_df.head()"
   ]
  },
  {
   "cell_type": "markdown",
   "metadata": {},
   "source": [
    "Find the portfolio with minimum standard deviation, since we only draw the upper half of the efficient frontier"
   ]
  },
  {
   "cell_type": "code",
   "execution_count": 15,
   "metadata": {},
   "outputs": [],
   "source": [
    "min_std = portfolio_df[\"std\"].min()\n",
    "min_mean = portfolio_df[portfolio_df[\"std\"]==min_std][\"mean\"].min()\n",
    "portfolio_df = portfolio_df[portfolio_df[\"mean\"]>=min_mean]"
   ]
  },
  {
   "cell_type": "markdown",
   "metadata": {},
   "source": [
    "### Draw the effective frontier\n",
    "\n",
    "$$ a=1\\cdot \\Sigma^{-1}\\cdot 1 $$\n",
    "$$ b=1\\cdot\\Sigma^{-1}\\cdot \\mu$$\n",
    "$$ c=\\mu\\cdot\\Sigma^{-1}\\cdot \\mu$$\n",
    "$$ \\Delta=ac-bb$$\n",
    "Effective frontier:\n",
    "$$ \\mu_p = \\frac{a\\sigma_p^2-2b\\sigma_p+c}{\\Delta}$$"
   ]
  },
  {
   "cell_type": "code",
   "execution_count": 16,
   "metadata": {},
   "outputs": [],
   "source": [
    "std_I = np.linalg.inv(std)\n",
    "a = np.dot(np.ones(3), np.dot(std_I,np.ones(3)))\n",
    "b = np.dot(np.ones(3), np.dot(std_I,mean))\n",
    "c = np.dot(mean, np.dot(std_I,mean))\n",
    "\n",
    "Delta = a*c-b*b"
   ]
  },
  {
   "cell_type": "code",
   "execution_count": 17,
   "metadata": {},
   "outputs": [
    {
     "data": {
      "image/png": "[encoded data removed]",
      "text/plain": [
       "<Figure size 1152x576 with 1 Axes>"
      ]
     },
     "metadata": {
      "needs_background": "light"
     },
     "output_type": "display_data"
    }
   ],
   "source": [
    "fig = plt.figure(figsize=(16,8))\n",
    "\n",
    "plt.xlim(xmin=0.06, xmax = 0.2)\n",
    "plt.ylim(ymin=0.025,ymax=0.035)\n",
    "plt.grid(True)\n",
    "plt.scatter(x=portfolio_df[\"std\"], y=portfolio_df[\"mean\"], color='b', linewidths=1, label=\"Portfolios\")\n",
    "\n",
    "y2 = np.arange(min_mean,0.1,0.0001)\n",
    "x2 = ((a*y2**2-2*b*y2+c)/Delta)**0.5\n",
    "plt.plot(x2,y2, color='r', label=\"Effective Frontier\", lw=5)\n",
    "\n",
    "plt.plot()\n",
    "plt.xlabel(\"Standard Deviation\")\n",
    "plt.ylabel(\"Mean\")\n",
    "plt.legend(loc=1)\n",
    "plt.savefig('Q1.1(b).png')"
   ]
  },
  {
   "cell_type": "markdown",
   "metadata": {},
   "source": [
    "## Q(c): Find the portfolio with the minimum standard deviation\n",
    "\n",
    "$$ \\pi_g=\\frac{\\Sigma^{-1}\\cdot 1}{a}$$\n",
    "\n",
    "The weight for the portfolio with minimum standard deviation is:\n",
    "$$ \\pi_g = (0.06367325, 0.64471892, 0.29160782)$$\n",
    "\n",
    "Stock Name|LCDZ|GZMT|FLZC\n",
    "--|--|--|--\n",
    "Weight|0.06367325|0.64471892|0.29160782"
   ]
  },
  {
   "cell_type": "code",
   "execution_count": 18,
   "metadata": {},
   "outputs": [],
   "source": [
    "min_weight = np.dot(np.linalg.inv(std), np.ones(3))/a"
   ]
  },
  {
   "cell_type": "code",
   "execution_count": 19,
   "metadata": {
    "scrolled": true
   },
   "outputs": [
    {
     "data": {
      "text/plain": [
       "array([0.06367325, 0.64471892, 0.29160782])"
      ]
     },
     "execution_count": 19,
     "metadata": {},
     "output_type": "execute_result"
    }
   ],
   "source": [
    "min_weight"
   ]
  },
  {
   "cell_type": "code",
   "execution_count": 20,
   "metadata": {},
   "outputs": [
    {
     "data": {
      "text/plain": [
       "0.027413546463446695"
      ]
     },
     "execution_count": 20,
     "metadata": {},
     "output_type": "execute_result"
    }
   ],
   "source": [
    "np.dot(min_weight, mean)"
   ]
  },
  {
   "cell_type": "code",
   "execution_count": 21,
   "metadata": {},
   "outputs": [
    {
     "data": {
      "text/plain": [
       "0.07590935949501681"
      ]
     },
     "execution_count": 21,
     "metadata": {},
     "output_type": "execute_result"
    }
   ],
   "source": [
    "(np.dot(min_weight, np.dot(std, min_weight)))**0.5"
   ]
  },
  {
   "cell_type": "markdown",
   "metadata": {},
   "source": [
    "## Q(d): Build an efficient frontier with the risk-free asset\n",
    "\n",
    "If we introduce a risk-free asset, then the effective frontier should be:\n",
    "$$ \\mu_p = r_f+\\sigma_p \\sqrt{c-2r_fb+r_f^2a}$$"
   ]
  },
  {
   "cell_type": "code",
   "execution_count": 22,
   "metadata": {},
   "outputs": [],
   "source": [
    "rf = 0.002"
   ]
  },
  {
   "cell_type": "code",
   "execution_count": 23,
   "metadata": {},
   "outputs": [],
   "source": [
    "slope = (c-2*rf*b+rf*rf*a)**0.5"
   ]
  },
  {
   "cell_type": "code",
   "execution_count": 24,
   "metadata": {},
   "outputs": [],
   "source": [
    "## get market portfolio's slope\n",
    "greatest_slope = 0\n",
    "market_portfolio = None\n",
    "\n",
    "for portfolio in portfolios:\n",
    "    slope = (portfolio[0]-rf)/portfolio[1]\n",
    "    if slope > greatest_slope:\n",
    "        greatest_slope = slope\n",
    "        market_portfolio = portfolio"
   ]
  },
  {
   "cell_type": "code",
   "execution_count": 25,
   "metadata": {},
   "outputs": [
    {
     "data": {
      "text/plain": [
       "0.3407360079873532"
      ]
     },
     "execution_count": 25,
     "metadata": {},
     "output_type": "execute_result"
    }
   ],
   "source": [
    "greatest_slope"
   ]
  },
  {
   "cell_type": "code",
   "execution_count": 27,
   "metadata": {
    "scrolled": false
   },
   "outputs": [
    {
     "data": {
      "image/png": "[encoded data removed]",
      "text/plain": [
       "<Figure size 1152x576 with 1 Axes>"
      ]
     },
     "metadata": {
      "needs_background": "light"
     },
     "output_type": "display_data"
    }
   ],
   "source": [
    "fig = plt.figure(figsize=(16,8))\n",
    "\n",
    "plt.xlim(xmin=0.06, xmax = 0.2)\n",
    "plt.ylim(ymin=0.025,ymax=0.035)\n",
    "plt.grid(True)\n",
    "plt.scatter(x=portfolio_df[\"std\"], y=portfolio_df[\"mean\"], color='b', linewidths=1, label=\"Portfolios\")\n",
    "\n",
    "y2 = np.arange(min_mean,0.1,0.0001)\n",
    "x2 = ((a*(y2**2)-2*b*y2+c)/Delta)**0.5\n",
    "plt.plot(x2,y2, color='r', label=\"Effective Frontier\", lw=5)\n",
    "\n",
    "x3 = np.arange(0,1, 0.001)\n",
    "y3 = x3*greatest_slope+0.002\n",
    "plt.plot(x3,y3, color='c', label=\"Effective Frontier with Risk Free Asset\", lw=5)\n",
    "\n",
    "# y4 = x3*slope2+0.002\n",
    "# plt.plot(x3,y4, color='c', label=\"Effective Frontier with Risk Free Asset\", lw=5)\n",
    "\n",
    "plt.plot()\n",
    "plt.xlabel(\"Standard Deviation\")\n",
    "plt.ylabel(\"Mean\")\n",
    "plt.legend(loc=1)\n",
    "plt.savefig('Q1.1(d).png')"
   ]
  },
  {
   "cell_type": "markdown",
   "metadata": {},
   "source": [
    "## Q(e): Find the market portfolio\n",
    "\n",
    "$$ Sharp\\ Ratio = \\frac{\\mu_m-rf}{\\sigma_m}$$\n",
    "The sharp ratio is 0.34073\n",
    "\n",
    "The market portfolio's weights are:\n",
    "\n",
    "Stock Name|LCDZ|GZMT|FLZC\n",
    "--|--|--|--\n",
    "Weight|0.02793284|0.55968293|0.41238423"
   ]
  },
  {
   "cell_type": "code",
   "execution_count": 28,
   "metadata": {},
   "outputs": [],
   "source": [
    "sharp_ratio = (market_portfolio[0]-rf)/market_portfolio[1]"
   ]
  },
  {
   "cell_type": "code",
   "execution_count": 29,
   "metadata": {},
   "outputs": [
    {
     "data": {
      "text/plain": [
       "0.3407360079873532"
      ]
     },
     "execution_count": 29,
     "metadata": {},
     "output_type": "execute_result"
    }
   ],
   "source": [
    "sharp_ratio"
   ]
  },
  {
   "cell_type": "markdown",
   "metadata": {},
   "source": [
    "Compute gamma and theta\n",
    "$$ \\gamma = \\frac{c-b\\mu_p}{\\Delta}$$\n",
    "$$ \\theta = \\frac{a\\mu_p-b}{\\Delta}$$"
   ]
  },
  {
   "cell_type": "code",
   "execution_count": 30,
   "metadata": {},
   "outputs": [],
   "source": [
    "gamma = (c-b*market_portfolio[0])/Delta\n",
    "theta = (a*market_portfolio[0]-b)/Delta"
   ]
  },
  {
   "cell_type": "code",
   "execution_count": 31,
   "metadata": {},
   "outputs": [],
   "source": [
    "market_weight = np.dot(theta, np.dot(std_I, mean))+np.dot(gamma, np.dot(std_I, np.ones(3)))"
   ]
  },
  {
   "cell_type": "code",
   "execution_count": 32,
   "metadata": {},
   "outputs": [
    {
     "data": {
      "text/plain": [
       "array([0.02630609, 0.55581245, 0.41788146])"
      ]
     },
     "execution_count": 32,
     "metadata": {},
     "output_type": "execute_result"
    }
   ],
   "source": [
    "market_weight"
   ]
  },
  {
   "cell_type": "code",
   "execution_count": null,
   "metadata": {},
   "outputs": [],
   "source": []
  }
 ],
 "metadata": {
  "kernelspec": {
   "display_name": "Python 3",
   "language": "python",
   "name": "python3"
  },
  "language_info": {
   "codemirror_mode": {
    "name": "ipython",
    "version": 3
   },
   "file_extension": ".py",
   "mimetype": "text/x-python",
   "name": "python",
   "nbconvert_exporter": "python",
   "pygments_lexer": "ipython3",
   "version": "3.7.4"
  },
  "toc": {
   "base_numbering": 1,
   "nav_menu": {},
   "number_sections": true,
   "sideBar": true,
   "skip_h1_title": false,
   "title_cell": "Table of Contents",
   "title_sidebar": "Contents",
   "toc_cell": false,
   "toc_position": {},
   "toc_section_display": true,
   "toc_window_display": false
  },
  "varInspector": {
   "cols": {
    "lenName": 16,
    "lenType": 16,
    "lenVar": 40
   },
   "kernels_config": {
    "python": {
     "delete_cmd_postfix": "",
     "delete_cmd_prefix": "del ",
     "library": "var_list.py",
     "varRefreshCmd": "print(var_dic_list())"
    },
    "r": {
     "delete_cmd_postfix": ") ",
     "delete_cmd_prefix": "rm(",
     "library": "var_list.r",
     "varRefreshCmd": "cat(var_dic_list()) "
    }
   },
   "types_to_exclude": [
    "module",
    "function",
    "builtin_function_or_method",
    "instance",
    "_Feature"
   ],
   "window_display": true
  }
 },
 "nbformat": 4,
 "nbformat_minor": 2
}
