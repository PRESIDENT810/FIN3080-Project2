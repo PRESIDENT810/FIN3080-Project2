{
 "cells": [
  {
   "cell_type": "code",
   "execution_count": 35,
   "metadata": {},
   "outputs": [],
   "source": [
    "import numpy as np\n",
    "import pandas as pd\n",
    "import matplotlib.pyplot as plt\n",
    "import seaborn as sns\n",
    "from tqdm import tqdm\n",
    "from sklearn.linear_model import LinearRegression\n",
    "import statsmodels.api as sm"
   ]
  },
  {
   "cell_type": "code",
   "execution_count": 2,
   "metadata": {},
   "outputs": [],
   "source": [
    "df = pd.read_csv('./merged.csv', index_col=0)"
   ]
  },
  {
   "cell_type": "code",
   "execution_count": 3,
   "metadata": {},
   "outputs": [
    {
     "data": {
      "text/html": [
       "<div>\n",
       "<style scoped>\n",
       "    .dataframe tbody tr th:only-of-type {\n",
       "        vertical-align: middle;\n",
       "    }\n",
       "\n",
       "    .dataframe tbody tr th {\n",
       "        vertical-align: top;\n",
       "    }\n",
       "\n",
       "    .dataframe thead th {\n",
       "        text-align: right;\n",
       "    }\n",
       "</style>\n",
       "<table border=\"1\" class=\"dataframe\">\n",
       "  <thead>\n",
       "    <tr style=\"text-align: right;\">\n",
       "      <th></th>\n",
       "      <th>Stkcd</th>\n",
       "      <th>Trdmnt</th>\n",
       "      <th>Mretwd</th>\n",
       "      <th>rf</th>\n",
       "      <th>rm</th>\n",
       "    </tr>\n",
       "  </thead>\n",
       "  <tbody>\n",
       "    <tr>\n",
       "      <th>0</th>\n",
       "      <td>600000</td>\n",
       "      <td>2013-01-01</td>\n",
       "      <td>0.157258</td>\n",
       "      <td>0.2466</td>\n",
       "      <td>0.064975</td>\n",
       "    </tr>\n",
       "    <tr>\n",
       "      <th>1</th>\n",
       "      <td>600000</td>\n",
       "      <td>2013-02-01</td>\n",
       "      <td>-0.036585</td>\n",
       "      <td>0.2466</td>\n",
       "      <td>-0.005045</td>\n",
       "    </tr>\n",
       "    <tr>\n",
       "      <th>2</th>\n",
       "      <td>600000</td>\n",
       "      <td>2013-03-01</td>\n",
       "      <td>-0.084087</td>\n",
       "      <td>0.2466</td>\n",
       "      <td>-0.066675</td>\n",
       "    </tr>\n",
       "    <tr>\n",
       "      <th>3</th>\n",
       "      <td>600000</td>\n",
       "      <td>2013-04-01</td>\n",
       "      <td>-0.024679</td>\n",
       "      <td>0.2466</td>\n",
       "      <td>-0.019148</td>\n",
       "    </tr>\n",
       "    <tr>\n",
       "      <th>4</th>\n",
       "      <td>600000</td>\n",
       "      <td>2013-05-01</td>\n",
       "      <td>0.059717</td>\n",
       "      <td>0.2466</td>\n",
       "      <td>0.065018</td>\n",
       "    </tr>\n",
       "  </tbody>\n",
       "</table>\n",
       "</div>"
      ],
      "text/plain": [
       "    Stkcd      Trdmnt    Mretwd      rf        rm\n",
       "0  600000  2013-01-01  0.157258  0.2466  0.064975\n",
       "1  600000  2013-02-01 -0.036585  0.2466 -0.005045\n",
       "2  600000  2013-03-01 -0.084087  0.2466 -0.066675\n",
       "3  600000  2013-04-01 -0.024679  0.2466 -0.019148\n",
       "4  600000  2013-05-01  0.059717  0.2466  0.065018"
      ]
     },
     "execution_count": 3,
     "metadata": {},
     "output_type": "execute_result"
    }
   ],
   "source": [
    "df.head()"
   ]
  },
  {
   "cell_type": "code",
   "execution_count": 4,
   "metadata": {},
   "outputs": [
    {
     "data": {
      "text/html": [
       "<div>\n",
       "<style scoped>\n",
       "    .dataframe tbody tr th:only-of-type {\n",
       "        vertical-align: middle;\n",
       "    }\n",
       "\n",
       "    .dataframe tbody tr th {\n",
       "        vertical-align: top;\n",
       "    }\n",
       "\n",
       "    .dataframe thead th {\n",
       "        text-align: right;\n",
       "    }\n",
       "</style>\n",
       "<table border=\"1\" class=\"dataframe\">\n",
       "  <thead>\n",
       "    <tr style=\"text-align: right;\">\n",
       "      <th></th>\n",
       "      <th>Stkcd</th>\n",
       "      <th>Mretwd</th>\n",
       "      <th>rf</th>\n",
       "      <th>rm</th>\n",
       "    </tr>\n",
       "  </thead>\n",
       "  <tbody>\n",
       "    <tr>\n",
       "      <th>count</th>\n",
       "      <td>518.000000</td>\n",
       "      <td>0.0</td>\n",
       "      <td>518.000000</td>\n",
       "      <td>518.000000</td>\n",
       "    </tr>\n",
       "    <tr>\n",
       "      <th>mean</th>\n",
       "      <td>603144.882239</td>\n",
       "      <td>NaN</td>\n",
       "      <td>0.146876</td>\n",
       "      <td>0.018894</td>\n",
       "    </tr>\n",
       "    <tr>\n",
       "      <th>std</th>\n",
       "      <td>890.422337</td>\n",
       "      <td>NaN</td>\n",
       "      <td>0.042070</td>\n",
       "      <td>0.059920</td>\n",
       "    </tr>\n",
       "    <tr>\n",
       "      <th>min</th>\n",
       "      <td>600023.000000</td>\n",
       "      <td>NaN</td>\n",
       "      <td>0.124100</td>\n",
       "      <td>-0.146725</td>\n",
       "    </tr>\n",
       "    <tr>\n",
       "      <th>25%</th>\n",
       "      <td>603079.250000</td>\n",
       "      <td>NaN</td>\n",
       "      <td>0.124100</td>\n",
       "      <td>-0.004714</td>\n",
       "    </tr>\n",
       "    <tr>\n",
       "      <th>50%</th>\n",
       "      <td>603373.000000</td>\n",
       "      <td>NaN</td>\n",
       "      <td>0.124100</td>\n",
       "      <td>0.019141</td>\n",
       "    </tr>\n",
       "    <tr>\n",
       "      <th>75%</th>\n",
       "      <td>603712.750000</td>\n",
       "      <td>NaN</td>\n",
       "      <td>0.124100</td>\n",
       "      <td>0.038660</td>\n",
       "    </tr>\n",
       "    <tr>\n",
       "      <th>max</th>\n",
       "      <td>603999.000000</td>\n",
       "      <td>NaN</td>\n",
       "      <td>0.246600</td>\n",
       "      <td>0.258075</td>\n",
       "    </tr>\n",
       "  </tbody>\n",
       "</table>\n",
       "</div>"
      ],
      "text/plain": [
       "               Stkcd  Mretwd          rf          rm\n",
       "count     518.000000     0.0  518.000000  518.000000\n",
       "mean   603144.882239     NaN    0.146876    0.018894\n",
       "std       890.422337     NaN    0.042070    0.059920\n",
       "min    600023.000000     NaN    0.124100   -0.146725\n",
       "25%    603079.250000     NaN    0.124100   -0.004714\n",
       "50%    603373.000000     NaN    0.124100    0.019141\n",
       "75%    603712.750000     NaN    0.124100    0.038660\n",
       "max    603999.000000     NaN    0.246600    0.258075"
      ]
     },
     "execution_count": 4,
     "metadata": {},
     "output_type": "execute_result"
    }
   ],
   "source": [
    "df[df['Mretwd'].isna()].describe()"
   ]
  },
  {
   "cell_type": "code",
   "execution_count": 5,
   "metadata": {},
   "outputs": [],
   "source": [
    "stock_codes = pd.unique(df['Stkcd'])\n",
    "\n",
    "stock_dfs = []\n",
    "stock_betas = []\n",
    "\n",
    "for stock in stock_codes:\n",
    "    stock_dfs.append(df[df['Stkcd']==stock])"
   ]
  },
  {
   "cell_type": "code",
   "execution_count": 6,
   "metadata": {},
   "outputs": [],
   "source": [
    "Regression_df = pd.DataFrame({'Stock': [], \"Alpha\": [], \"Beta\": [], \"ri-rf\": []})"
   ]
  },
  {
   "cell_type": "code",
   "execution_count": 7,
   "metadata": {},
   "outputs": [],
   "source": [
    "Regression_df['Stock'] = stock_codes"
   ]
  },
  {
   "cell_type": "code",
   "execution_count": 8,
   "metadata": {},
   "outputs": [
    {
     "data": {
      "text/html": [
       "<div>\n",
       "<style scoped>\n",
       "    .dataframe tbody tr th:only-of-type {\n",
       "        vertical-align: middle;\n",
       "    }\n",
       "\n",
       "    .dataframe tbody tr th {\n",
       "        vertical-align: top;\n",
       "    }\n",
       "\n",
       "    .dataframe thead th {\n",
       "        text-align: right;\n",
       "    }\n",
       "</style>\n",
       "<table border=\"1\" class=\"dataframe\">\n",
       "  <thead>\n",
       "    <tr style=\"text-align: right;\">\n",
       "      <th></th>\n",
       "      <th>Stock</th>\n",
       "      <th>Alpha</th>\n",
       "      <th>Beta</th>\n",
       "      <th>ri-rf</th>\n",
       "    </tr>\n",
       "  </thead>\n",
       "  <tbody>\n",
       "    <tr>\n",
       "      <th>0</th>\n",
       "      <td>600000</td>\n",
       "      <td>NaN</td>\n",
       "      <td>NaN</td>\n",
       "      <td>NaN</td>\n",
       "    </tr>\n",
       "    <tr>\n",
       "      <th>1</th>\n",
       "      <td>600004</td>\n",
       "      <td>NaN</td>\n",
       "      <td>NaN</td>\n",
       "      <td>NaN</td>\n",
       "    </tr>\n",
       "    <tr>\n",
       "      <th>2</th>\n",
       "      <td>600005</td>\n",
       "      <td>NaN</td>\n",
       "      <td>NaN</td>\n",
       "      <td>NaN</td>\n",
       "    </tr>\n",
       "    <tr>\n",
       "      <th>3</th>\n",
       "      <td>600006</td>\n",
       "      <td>NaN</td>\n",
       "      <td>NaN</td>\n",
       "      <td>NaN</td>\n",
       "    </tr>\n",
       "    <tr>\n",
       "      <th>4</th>\n",
       "      <td>600007</td>\n",
       "      <td>NaN</td>\n",
       "      <td>NaN</td>\n",
       "      <td>NaN</td>\n",
       "    </tr>\n",
       "  </tbody>\n",
       "</table>\n",
       "</div>"
      ],
      "text/plain": [
       "    Stock  Alpha  Beta  ri-rf\n",
       "0  600000    NaN   NaN    NaN\n",
       "1  600004    NaN   NaN    NaN\n",
       "2  600005    NaN   NaN    NaN\n",
       "3  600006    NaN   NaN    NaN\n",
       "4  600007    NaN   NaN    NaN"
      ]
     },
     "execution_count": 8,
     "metadata": {},
     "output_type": "execute_result"
    }
   ],
   "source": [
    "Regression_df.head()"
   ]
  },
  {
   "cell_type": "markdown",
   "metadata": {},
   "source": [
    "## First Pass Regression\n",
    "\n",
    "Periodic cross-sectional regression, regress each stock across T periods:\n",
    "\n",
    "$$ r_{it}-r_{ft} = \\alpha_i+\\beta_i(r_{mt}-r_{ft})+\\epsilon_{it} $$\n",
    "\n",
    "to calculate each stock's beta"
   ]
  },
  {
   "cell_type": "code",
   "execution_count": 44,
   "metadata": {},
   "outputs": [
    {
     "data": {
      "text/plain": [
       "LinearRegression(copy_X=True, fit_intercept=True, n_jobs=None,\n",
       "         normalize=False)"
      ]
     },
     "execution_count": 44,
     "metadata": {},
     "output_type": "execute_result"
    }
   ],
   "source": [
    "stock_df = stock_dfs[900]\n",
    "stock_df = stock_df.dropna(axis=0, how='any')\n",
    "LR = LinearRegression()\n",
    "ri = stock_df['Mretwd']\n",
    "rf = stock_df['rf']\n",
    "rm = stock_df['rm']\n",
    "X = (rm-rf).values\n",
    "X = X.reshape((X.shape[0],1))\n",
    "y = (ri-rf).values\n",
    "y = y.reshape((y.shape[0],1))\n",
    "LR.fit(X,y)"
   ]
  },
  {
   "cell_type": "code",
   "execution_count": 45,
   "metadata": {},
   "outputs": [
    {
     "data": {
      "text/plain": [
       "<matplotlib.legend.Legend at 0x12610afd0>"
      ]
     },
     "execution_count": 45,
     "metadata": {},
     "output_type": "execute_result"
    },
    {
     "data": {
      "image/png": "[encoded data removed]",
      "text/plain": [
       "<Figure size 864x576 with 1 Axes>"
      ]
     },
     "metadata": {
      "needs_background": "light"
     },
     "output_type": "display_data"
    }
   ],
   "source": [
    "fig = plt.figure(figsize=(12,8))\n",
    "\n",
    "plt.title(\"First Regression Sample Result\")\n",
    "plt.scatter(X,y, color='b', label='Sample')\n",
    "plt.plot(np.arange(-0.5,0.5,0.01), LR.predict(np.arange(-0.5,0.5,0.01).reshape((-1,1))), color='r', label='Regression')\n",
    "plt.grid(True)\n",
    "plt.xlabel(\"rmt-rft\")\n",
    "plt.ylabel(\"rit-rft\")\n",
    "plt.legend(loc=1)"
   ]
  },
  {
   "cell_type": "code",
   "execution_count": 46,
   "metadata": {},
   "outputs": [
    {
     "name": "stdout",
     "output_type": "stream",
     "text": [
      "ValueError with stock idx=1108\n",
      "\n",
      "ValueError with stock idx=1277\n",
      "\n"
     ]
    }
   ],
   "source": [
    "for idx in range(Regression_df.shape[0]):\n",
    "    try:\n",
    "        stock_df = stock_dfs[idx]\n",
    "        stock_df = stock_df.dropna(axis=0, how='any')\n",
    "        LR = LinearRegression()\n",
    "        ri = stock_df['Mretwd']\n",
    "        rf = stock_df['rf']\n",
    "        rm = stock_df['rm']\n",
    "        X = (rm-rf).values\n",
    "        X = X.reshape((X.shape[0],1))\n",
    "        y = (ri-rf).values\n",
    "        y = y.reshape((y.shape[0],1))\n",
    "        LR.fit(X,y)\n",
    "        row = Regression_df.iloc[idx]\n",
    "        row['Alpha'] = LR.intercept_\n",
    "        row['Beta'] = LR.coef_\n",
    "        row['ri-rf'] = np.mean(y)\n",
    "        Regression_df.iloc[idx] = row\n",
    "    except ValueError:\n",
    "        print(\"ValueError with stock idx=%d\\n\"%idx)"
   ]
  },
  {
   "cell_type": "code",
   "execution_count": 47,
   "metadata": {},
   "outputs": [
    {
     "data": {
      "text/html": [
       "<div>\n",
       "<style scoped>\n",
       "    .dataframe tbody tr th:only-of-type {\n",
       "        vertical-align: middle;\n",
       "    }\n",
       "\n",
       "    .dataframe tbody tr th {\n",
       "        vertical-align: top;\n",
       "    }\n",
       "\n",
       "    .dataframe thead th {\n",
       "        text-align: right;\n",
       "    }\n",
       "</style>\n",
       "<table border=\"1\" class=\"dataframe\">\n",
       "  <thead>\n",
       "    <tr style=\"text-align: right;\">\n",
       "      <th></th>\n",
       "      <th>Stock</th>\n",
       "      <th>Alpha</th>\n",
       "      <th>Beta</th>\n",
       "      <th>ri-rf</th>\n",
       "    </tr>\n",
       "  </thead>\n",
       "  <tbody>\n",
       "    <tr>\n",
       "      <th>0</th>\n",
       "      <td>600000.0</td>\n",
       "      <td>-0.033417</td>\n",
       "      <td>0.767625</td>\n",
       "      <td>-0.162832</td>\n",
       "    </tr>\n",
       "    <tr>\n",
       "      <th>1</th>\n",
       "      <td>600004.0</td>\n",
       "      <td>-0.005789</td>\n",
       "      <td>0.900694</td>\n",
       "      <td>-0.157637</td>\n",
       "    </tr>\n",
       "    <tr>\n",
       "      <th>2</th>\n",
       "      <td>600005.0</td>\n",
       "      <td>0.009200</td>\n",
       "      <td>1.023623</td>\n",
       "      <td>-0.187596</td>\n",
       "    </tr>\n",
       "    <tr>\n",
       "      <th>3</th>\n",
       "      <td>600006.0</td>\n",
       "      <td>-0.059743</td>\n",
       "      <td>0.596995</td>\n",
       "      <td>-0.161760</td>\n",
       "    </tr>\n",
       "    <tr>\n",
       "      <th>4</th>\n",
       "      <td>600007.0</td>\n",
       "      <td>-0.028217</td>\n",
       "      <td>0.821840</td>\n",
       "      <td>-0.166771</td>\n",
       "    </tr>\n",
       "  </tbody>\n",
       "</table>\n",
       "</div>"
      ],
      "text/plain": [
       "      Stock     Alpha      Beta     ri-rf\n",
       "0  600000.0 -0.033417  0.767625 -0.162832\n",
       "1  600004.0 -0.005789  0.900694 -0.157637\n",
       "2  600005.0  0.009200  1.023623 -0.187596\n",
       "3  600006.0 -0.059743  0.596995 -0.161760\n",
       "4  600007.0 -0.028217  0.821840 -0.166771"
      ]
     },
     "execution_count": 47,
     "metadata": {},
     "output_type": "execute_result"
    }
   ],
   "source": [
    "Regression_df.head()"
   ]
  },
  {
   "cell_type": "code",
   "execution_count": 48,
   "metadata": {},
   "outputs": [
    {
     "name": "stderr",
     "output_type": "stream",
     "text": [
      "/usr/local/lib/python3.7/site-packages/ipykernel_launcher.py:1: FutureWarning: \n",
      "The current behaviour of 'Series.argmax' is deprecated, use 'idxmax'\n",
      "instead.\n",
      "The behavior of 'argmax' will be corrected to return the positional\n",
      "maximum in the future. For now, use 'series.values.argmax' or\n",
      "'np.argmax(np.array(values))' to get the position of the maximum\n",
      "row.\n",
      "  \"\"\"Entry point for launching an IPython kernel.\n"
     ]
    },
    {
     "data": {
      "text/plain": [
       "Stock    603657.000000\n",
       "Alpha         1.192780\n",
       "Beta          8.101925\n",
       "ri-rf         0.000310\n",
       "Name: 1288, dtype: float64"
      ]
     },
     "execution_count": 48,
     "metadata": {},
     "output_type": "execute_result"
    }
   ],
   "source": [
    "Regression_df.loc[Regression_df['Beta'].argmax()]"
   ]
  },
  {
   "cell_type": "code",
   "execution_count": 49,
   "metadata": {},
   "outputs": [
    {
     "name": "stderr",
     "output_type": "stream",
     "text": [
      "/usr/local/lib/python3.7/site-packages/ipykernel_launcher.py:1: FutureWarning: \n",
      "The current behaviour of 'Series.argmin' is deprecated, use 'idxmin'\n",
      "instead.\n",
      "The behavior of 'argmin' will be corrected to return the positional\n",
      "minimum in the future. For now, use 'series.values.argmin' or\n",
      "'np.argmin(np.array(values))' to get the position of the minimum\n",
      "row.\n",
      "  \"\"\"Entry point for launching an IPython kernel.\n"
     ]
    },
    {
     "data": {
      "text/plain": [
       "Stock    603320.000000\n",
       "Alpha        -0.535914\n",
       "Beta         -3.744091\n",
       "ri-rf        -0.050123\n",
       "Name: 1163, dtype: float64"
      ]
     },
     "execution_count": 49,
     "metadata": {},
     "output_type": "execute_result"
    }
   ],
   "source": [
    "Regression_df.loc[Regression_df['Beta'].argmin()]"
   ]
  },
  {
   "cell_type": "markdown",
   "metadata": {},
   "source": [
    "类型|股票代码|Beta\n",
    "--|--|--\n",
    "最小值 | 603319 | -3.744091\n",
    "最大值 | 603655 | 8.101925"
   ]
  },
  {
   "cell_type": "code",
   "execution_count": 50,
   "metadata": {},
   "outputs": [],
   "source": [
    "Regression_df['股票代码']=60000"
   ]
  },
  {
   "cell_type": "markdown",
   "metadata": {},
   "source": [
    "## Second Pass Regression\n",
    "\n",
    "Average cross-sectional regression results:\n",
    "\n",
    "$$ \\overline{r_i-r_f} = \\gamma_0+\\gamma_1 b_i$$ \n",
    "\n",
    "If CAPM holds, then these is supposed to be $\\gamma_0=0;\\ \\gamma1=\\overline{r_m-r_f}$\n",
    "\n",
    "\n",
    "Then test if $\\gamma_0$ is significantly different from 0; if not so, it indicates that CAPM does not hold"
   ]
  },
  {
   "cell_type": "code",
   "execution_count": 51,
   "metadata": {},
   "outputs": [
    {
     "data": {
      "text/plain": [
       "LinearRegression(copy_X=True, fit_intercept=True, n_jobs=None,\n",
       "         normalize=False)"
      ]
     },
     "execution_count": 51,
     "metadata": {},
     "output_type": "execute_result"
    }
   ],
   "source": [
    "LR = LinearRegression()\n",
    "Regression_df = Regression_df.dropna()\n",
    "X = Regression_df['Beta'].values\n",
    "X = X.reshape((-1,1))\n",
    "y = Regression_df['ri-rf'].values\n",
    "y = y.reshape((-1,1))\n",
    "LR.fit(X,y)"
   ]
  },
  {
   "cell_type": "code",
   "execution_count": 52,
   "metadata": {},
   "outputs": [],
   "source": [
    "gamma0 = LR.intercept_\n",
    "gamma1 = LR.coef_"
   ]
  },
  {
   "cell_type": "code",
   "execution_count": 53,
   "metadata": {},
   "outputs": [
    {
     "data": {
      "text/plain": [
       "-0.1623390283496623"
      ]
     },
     "execution_count": 53,
     "metadata": {},
     "output_type": "execute_result"
    }
   ],
   "source": [
    "gamma0.item()"
   ]
  },
  {
   "cell_type": "code",
   "execution_count": 54,
   "metadata": {},
   "outputs": [
    {
     "data": {
      "text/plain": [
       "0.009607680817170217"
      ]
     },
     "execution_count": 54,
     "metadata": {},
     "output_type": "execute_result"
    }
   ],
   "source": [
    "gamma1.item()"
   ]
  },
  {
   "cell_type": "code",
   "execution_count": 55,
   "metadata": {},
   "outputs": [
    {
     "data": {
      "text/plain": [
       "-0.135087756097561"
      ]
     },
     "execution_count": 55,
     "metadata": {},
     "output_type": "execute_result"
    }
   ],
   "source": [
    "rf = stock_df['rf']\n",
    "rm = stock_df['rm']\n",
    "np.mean((rm-rf).values)"
   ]
  },
  {
   "cell_type": "code",
   "execution_count": 56,
   "metadata": {},
   "outputs": [
    {
     "data": {
      "text/plain": [
       "<matplotlib.legend.Legend at 0x1261629d0>"
      ]
     },
     "execution_count": 56,
     "metadata": {},
     "output_type": "execute_result"
    },
    {
     "data": {
      "image/png": "[encoded data removed]",
      "text/plain": [
       "<Figure size 864x576 with 1 Axes>"
      ]
     },
     "metadata": {
      "needs_background": "light"
     },
     "output_type": "display_data"
    }
   ],
   "source": [
    "fig = plt.figure(figsize=(12,8))\n",
    "\n",
    "plt.scatter(X,y, color='b', label='Sample')\n",
    "plt.plot(np.arange(-4,8,0.01), LR.predict(np.arange(-4,8,0.01).reshape((-1,1))), color='r', label='Regression')\n",
    "plt.grid(True)\n",
    "plt.title(\"Second Pass Regression Result\")\n",
    "plt.xlabel(\"Beta\")\n",
    "plt.ylabel(\"mean ri-rf\")\n",
    "plt.legend(loc=1)"
   ]
  },
  {
   "cell_type": "code",
   "execution_count": 57,
   "metadata": {},
   "outputs": [],
   "source": [
    "Regression_df.to_csv(\"Regression.csv\")"
   ]
  },
  {
   "cell_type": "markdown",
   "metadata": {},
   "source": [
    "## T-test"
   ]
  },
  {
   "cell_type": "code",
   "execution_count": 58,
   "metadata": {},
   "outputs": [
    {
     "data": {
      "text/html": [
       "<table class=\"simpletable\">\n",
       "<caption>OLS Regression Results</caption>\n",
       "<tr>\n",
       "  <th>Dep. Variable:</th>            <td>y</td>        <th>  R-squared:         </th> <td>   0.047</td>\n",
       "</tr>\n",
       "<tr>\n",
       "  <th>Model:</th>                   <td>OLS</td>       <th>  Adj. R-squared:    </th> <td>   0.046</td>\n",
       "</tr>\n",
       "<tr>\n",
       "  <th>Method:</th>             <td>Least Squares</td>  <th>  F-statistic:       </th> <td>   71.65</td>\n",
       "</tr>\n",
       "<tr>\n",
       "  <th>Date:</th>             <td>Fri, 08 Nov 2019</td> <th>  Prob (F-statistic):</th> <td>6.21e-17</td>\n",
       "</tr>\n",
       "<tr>\n",
       "  <th>Time:</th>                 <td>20:04:43</td>     <th>  Log-Likelihood:    </th> <td>  3059.2</td>\n",
       "</tr>\n",
       "<tr>\n",
       "  <th>No. Observations:</th>      <td>  1452</td>      <th>  AIC:               </th> <td>  -6114.</td>\n",
       "</tr>\n",
       "<tr>\n",
       "  <th>Df Residuals:</th>          <td>  1450</td>      <th>  BIC:               </th> <td>  -6104.</td>\n",
       "</tr>\n",
       "<tr>\n",
       "  <th>Df Model:</th>              <td>     1</td>      <th>                     </th>     <td> </td>   \n",
       "</tr>\n",
       "<tr>\n",
       "  <th>Covariance Type:</th>      <td>nonrobust</td>    <th>                     </th>     <td> </td>   \n",
       "</tr>\n",
       "</table>\n",
       "<table class=\"simpletable\">\n",
       "<tr>\n",
       "    <td></td>       <th>coef</th>     <th>std err</th>      <th>t</th>      <th>P>|t|</th>  <th>[0.025</th>    <th>0.975]</th>  \n",
       "</tr>\n",
       "<tr>\n",
       "  <th>const</th> <td>   -0.1623</td> <td>    0.001</td> <td> -130.083</td> <td> 0.000</td> <td>   -0.165</td> <td>   -0.160</td>\n",
       "</tr>\n",
       "<tr>\n",
       "  <th>x1</th>    <td>    0.0096</td> <td>    0.001</td> <td>    8.464</td> <td> 0.000</td> <td>    0.007</td> <td>    0.012</td>\n",
       "</tr>\n",
       "</table>\n",
       "<table class=\"simpletable\">\n",
       "<tr>\n",
       "  <th>Omnibus:</th>       <td>977.411</td> <th>  Durbin-Watson:     </th> <td>   1.638</td> \n",
       "</tr>\n",
       "<tr>\n",
       "  <th>Prob(Omnibus):</th> <td> 0.000</td>  <th>  Jarque-Bera (JB):  </th> <td>29724.397</td>\n",
       "</tr>\n",
       "<tr>\n",
       "  <th>Skew:</th>          <td> 2.682</td>  <th>  Prob(JB):          </th> <td>    0.00</td> \n",
       "</tr>\n",
       "<tr>\n",
       "  <th>Kurtosis:</th>      <td>24.507</td>  <th>  Cond. No.          </th> <td>    2.90</td> \n",
       "</tr>\n",
       "</table><br/><br/>Warnings:<br/>[1] Standard Errors assume that the covariance matrix of the errors is correctly specified."
      ],
      "text/plain": [
       "<class 'statsmodels.iolib.summary.Summary'>\n",
       "\"\"\"\n",
       "                            OLS Regression Results                            \n",
       "==============================================================================\n",
       "Dep. Variable:                      y   R-squared:                       0.047\n",
       "Model:                            OLS   Adj. R-squared:                  0.046\n",
       "Method:                 Least Squares   F-statistic:                     71.65\n",
       "Date:                Fri, 08 Nov 2019   Prob (F-statistic):           6.21e-17\n",
       "Time:                        20:04:43   Log-Likelihood:                 3059.2\n",
       "No. Observations:                1452   AIC:                            -6114.\n",
       "Df Residuals:                    1450   BIC:                            -6104.\n",
       "Df Model:                           1                                         \n",
       "Covariance Type:            nonrobust                                         \n",
       "==============================================================================\n",
       "                 coef    std err          t      P>|t|      [0.025      0.975]\n",
       "------------------------------------------------------------------------------\n",
       "const         -0.1623      0.001   -130.083      0.000      -0.165      -0.160\n",
       "x1             0.0096      0.001      8.464      0.000       0.007       0.012\n",
       "==============================================================================\n",
       "Omnibus:                      977.411   Durbin-Watson:                   1.638\n",
       "Prob(Omnibus):                  0.000   Jarque-Bera (JB):            29724.397\n",
       "Skew:                           2.682   Prob(JB):                         0.00\n",
       "Kurtosis:                      24.507   Cond. No.                         2.90\n",
       "==============================================================================\n",
       "\n",
       "Warnings:\n",
       "[1] Standard Errors assume that the covariance matrix of the errors is correctly specified.\n",
       "\"\"\""
      ]
     },
     "execution_count": 58,
     "metadata": {},
     "output_type": "execute_result"
    }
   ],
   "source": [
    "X = sm.add_constant(X)\n",
    "model = sm.OLS(y,X)\n",
    "results = model.fit()\n",
    "\n",
    "results.summary()"
   ]
  },
  {
   "cell_type": "markdown",
   "metadata": {},
   "source": [
    "## Result\n",
    "\n",
    "P>|t| = 0.000 as the summary table has shown; therefore, the intersection is not significantly different from 0.\n",
    "\n",
    "\n",
    "Conclusion: CAPM does not hold"
   ]
  },
  {
   "cell_type": "code",
   "execution_count": null,
   "metadata": {},
   "outputs": [],
   "source": []
  }
 ],
 "metadata": {
  "kernelspec": {
   "display_name": "Python 3",
   "language": "python",
   "name": "python3"
  },
  "language_info": {
   "codemirror_mode": {
    "name": "ipython",
    "version": 3
   },
   "file_extension": ".py",
   "mimetype": "text/x-python",
   "name": "python",
   "nbconvert_exporter": "python",
   "pygments_lexer": "ipython3",
   "version": "3.7.4"
  }
 },
 "nbformat": 4,
 "nbformat_minor": 2
}
